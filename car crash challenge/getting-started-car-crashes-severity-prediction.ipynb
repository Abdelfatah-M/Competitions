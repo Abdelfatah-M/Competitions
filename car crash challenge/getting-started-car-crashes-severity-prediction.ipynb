{
 "cells": [
  {
   "cell_type": "markdown",
   "metadata": {
    "papermill": {
     "duration": 0.016294,
     "end_time": "2021-07-26T21:13:53.215276",
     "exception": false,
     "start_time": "2021-07-26T21:13:53.198982",
     "status": "completed"
    },
    "tags": []
   },
   "source": [
    "## Import the libraries\n",
    "\n",
    "We'll use `pandas` to load and manipulate the data. Other libraries will be imported in the relevant sections."
   ]
  },
  {
   "cell_type": "code",
   "execution_count": 1,
   "metadata": {
    "_cell_guid": "b1076dfc-b9ad-4769-8c92-a6c4dae69d19",
    "_uuid": "8f2839f25d086af736a60e9eeb907d3b93b6e0e5",
    "execution": {
     "iopub.execute_input": "2021-07-26T21:13:53.262282Z",
     "iopub.status.busy": "2021-07-26T21:13:53.261175Z",
     "iopub.status.idle": "2021-07-26T21:13:53.264973Z",
     "shell.execute_reply": "2021-07-26T21:13:53.264229Z",
     "shell.execute_reply.started": "2021-07-26T20:46:35.840285Z"
    },
    "papermill": {
     "duration": 0.033076,
     "end_time": "2021-07-26T21:13:53.265179",
     "exception": false,
     "start_time": "2021-07-26T21:13:53.232103",
     "status": "completed"
    },
    "tags": []
   },
   "outputs": [],
   "source": [
    "import pandas as pd\n",
    "import os"
   ]
  },
  {
   "cell_type": "markdown",
   "metadata": {
    "papermill": {
     "duration": 0.016321,
     "end_time": "2021-07-26T21:13:53.298362",
     "exception": false,
     "start_time": "2021-07-26T21:13:53.282041",
     "status": "completed"
    },
    "tags": []
   },
   "source": [
    "## Exploratory Data Analysis\n",
    "In this step, one should load the data and analyze it. However, I'll load the data and do minimal analysis. You are encouraged to do thorough analysis!\n",
    "\n",
    "Let's load the data using `pandas` and have a look at the generated `DataFrame`."
   ]
  },
  {
   "cell_type": "code",
   "execution_count": 10,
   "metadata": {
    "execution": {
     "iopub.execute_input": "2021-07-26T21:13:53.338895Z",
     "iopub.status.busy": "2021-07-26T21:13:53.337852Z",
     "iopub.status.idle": "2021-07-26T21:13:53.531140Z",
     "shell.execute_reply": "2021-07-26T21:13:53.531643Z",
     "shell.execute_reply.started": "2021-07-26T20:46:35.849723Z"
    },
    "papermill": {
     "duration": 0.216722,
     "end_time": "2021-07-26T21:13:53.531855",
     "exception": false,
     "start_time": "2021-07-26T21:13:53.315133",
     "status": "completed"
    },
    "tags": []
   },
   "outputs": [
    {
     "name": "stdout",
     "output_type": "stream",
     "text": [
      "The shape of the dataset is (6407, 16).\n",
      "\n",
      "\n",
      "<class 'pandas.core.frame.DataFrame'>\n",
      "RangeIndex: 6407 entries, 0 to 6406\n",
      "Data columns (total 16 columns):\n",
      " #   Column        Non-Null Count  Dtype  \n",
      "---  ------        --------------  -----  \n",
      " 0   ID            6407 non-null   int64  \n",
      " 1   Lat           6407 non-null   float64\n",
      " 2   Lng           6407 non-null   float64\n",
      " 3   Bump          6407 non-null   bool   \n",
      " 4   Distance(mi)  6407 non-null   float64\n",
      " 5   Crossing      6407 non-null   bool   \n",
      " 6   Give_Way      6407 non-null   bool   \n",
      " 7   Junction      6407 non-null   bool   \n",
      " 8   No_Exit       6407 non-null   bool   \n",
      " 9   Railway       6407 non-null   bool   \n",
      " 10  Roundabout    6407 non-null   bool   \n",
      " 11  Stop          6407 non-null   bool   \n",
      " 12  Amenity       6407 non-null   bool   \n",
      " 13  Side          6407 non-null   object \n",
      " 14  Severity      6407 non-null   int64  \n",
      " 15  timestamp     6407 non-null   object \n",
      "dtypes: bool(9), float64(3), int64(2), object(2)\n",
      "memory usage: 406.8+ KB\n"
     ]
    },
    {
     "data": {
      "text/html": [
       "<div>\n",
       "<style scoped>\n",
       "    .dataframe tbody tr th:only-of-type {\n",
       "        vertical-align: middle;\n",
       "    }\n",
       "\n",
       "    .dataframe tbody tr th {\n",
       "        vertical-align: top;\n",
       "    }\n",
       "\n",
       "    .dataframe thead th {\n",
       "        text-align: right;\n",
       "    }\n",
       "</style>\n",
       "<table border=\"1\" class=\"dataframe\">\n",
       "  <thead>\n",
       "    <tr style=\"text-align: right;\">\n",
       "      <th></th>\n",
       "      <th>ID</th>\n",
       "      <th>Lat</th>\n",
       "      <th>Lng</th>\n",
       "      <th>Bump</th>\n",
       "      <th>Distance(mi)</th>\n",
       "      <th>Crossing</th>\n",
       "      <th>Give_Way</th>\n",
       "      <th>Junction</th>\n",
       "      <th>No_Exit</th>\n",
       "      <th>Railway</th>\n",
       "      <th>Roundabout</th>\n",
       "      <th>Stop</th>\n",
       "      <th>Amenity</th>\n",
       "      <th>Side</th>\n",
       "      <th>Severity</th>\n",
       "      <th>timestamp</th>\n",
       "    </tr>\n",
       "  </thead>\n",
       "  <tbody>\n",
       "    <tr>\n",
       "      <th>0</th>\n",
       "      <td>0</td>\n",
       "      <td>37.762150</td>\n",
       "      <td>-122.405660</td>\n",
       "      <td>False</td>\n",
       "      <td>0.044</td>\n",
       "      <td>False</td>\n",
       "      <td>False</td>\n",
       "      <td>False</td>\n",
       "      <td>False</td>\n",
       "      <td>False</td>\n",
       "      <td>False</td>\n",
       "      <td>False</td>\n",
       "      <td>True</td>\n",
       "      <td>R</td>\n",
       "      <td>2</td>\n",
       "      <td>2016-03-25 15:13:02</td>\n",
       "    </tr>\n",
       "    <tr>\n",
       "      <th>1</th>\n",
       "      <td>1</td>\n",
       "      <td>37.719157</td>\n",
       "      <td>-122.448254</td>\n",
       "      <td>False</td>\n",
       "      <td>0.000</td>\n",
       "      <td>False</td>\n",
       "      <td>False</td>\n",
       "      <td>False</td>\n",
       "      <td>False</td>\n",
       "      <td>False</td>\n",
       "      <td>False</td>\n",
       "      <td>False</td>\n",
       "      <td>False</td>\n",
       "      <td>R</td>\n",
       "      <td>2</td>\n",
       "      <td>2020-05-05 19:23:00</td>\n",
       "    </tr>\n",
       "    <tr>\n",
       "      <th>2</th>\n",
       "      <td>2</td>\n",
       "      <td>37.808498</td>\n",
       "      <td>-122.366852</td>\n",
       "      <td>False</td>\n",
       "      <td>0.000</td>\n",
       "      <td>False</td>\n",
       "      <td>False</td>\n",
       "      <td>False</td>\n",
       "      <td>False</td>\n",
       "      <td>False</td>\n",
       "      <td>False</td>\n",
       "      <td>True</td>\n",
       "      <td>False</td>\n",
       "      <td>R</td>\n",
       "      <td>3</td>\n",
       "      <td>2016-09-16 19:57:16</td>\n",
       "    </tr>\n",
       "    <tr>\n",
       "      <th>3</th>\n",
       "      <td>3</td>\n",
       "      <td>37.785930</td>\n",
       "      <td>-122.391080</td>\n",
       "      <td>False</td>\n",
       "      <td>0.009</td>\n",
       "      <td>False</td>\n",
       "      <td>False</td>\n",
       "      <td>True</td>\n",
       "      <td>False</td>\n",
       "      <td>False</td>\n",
       "      <td>False</td>\n",
       "      <td>False</td>\n",
       "      <td>False</td>\n",
       "      <td>R</td>\n",
       "      <td>1</td>\n",
       "      <td>2020-03-29 19:48:43</td>\n",
       "    </tr>\n",
       "    <tr>\n",
       "      <th>4</th>\n",
       "      <td>4</td>\n",
       "      <td>37.719141</td>\n",
       "      <td>-122.448457</td>\n",
       "      <td>False</td>\n",
       "      <td>0.000</td>\n",
       "      <td>False</td>\n",
       "      <td>False</td>\n",
       "      <td>False</td>\n",
       "      <td>False</td>\n",
       "      <td>False</td>\n",
       "      <td>False</td>\n",
       "      <td>False</td>\n",
       "      <td>False</td>\n",
       "      <td>R</td>\n",
       "      <td>2</td>\n",
       "      <td>2019-10-09 08:47:00</td>\n",
       "    </tr>\n",
       "  </tbody>\n",
       "</table>\n",
       "</div>"
      ],
      "text/plain": [
       "   ID        Lat         Lng   Bump  Distance(mi)  Crossing  Give_Way  \\\n",
       "0   0  37.762150 -122.405660  False         0.044     False     False   \n",
       "1   1  37.719157 -122.448254  False         0.000     False     False   \n",
       "2   2  37.808498 -122.366852  False         0.000     False     False   \n",
       "3   3  37.785930 -122.391080  False         0.009     False     False   \n",
       "4   4  37.719141 -122.448457  False         0.000     False     False   \n",
       "\n",
       "   Junction  No_Exit  Railway  Roundabout   Stop  Amenity Side  Severity  \\\n",
       "0     False    False    False       False  False     True    R         2   \n",
       "1     False    False    False       False  False    False    R         2   \n",
       "2     False    False    False       False   True    False    R         3   \n",
       "3      True    False    False       False  False    False    R         1   \n",
       "4     False    False    False       False  False    False    R         2   \n",
       "\n",
       "             timestamp  \n",
       "0  2016-03-25 15:13:02  \n",
       "1  2020-05-05 19:23:00  \n",
       "2  2016-09-16 19:57:16  \n",
       "3  2020-03-29 19:48:43  \n",
       "4  2019-10-09 08:47:00  "
      ]
     },
     "execution_count": 10,
     "metadata": {},
     "output_type": "execute_result"
    }
   ],
   "source": [
    "dataset_path = 'dataset/'\n",
    "\n",
    "df = pd.read_csv(os.path.join(dataset_path, 'train.csv'))\n",
    "\n",
    "print(\"The shape of the dataset is {}.\\n\\n\".format(df.shape))\n",
    "df.info()\n",
    "df.head()\n"
   ]
  },
  {
   "cell_type": "markdown",
   "metadata": {
    "papermill": {
     "duration": 0.01693,
     "end_time": "2021-07-26T21:13:53.566397",
     "exception": false,
     "start_time": "2021-07-26T21:13:53.549467",
     "status": "completed"
    },
    "tags": []
   },
   "source": [
    "## We've got 6407 examples in the dataset with 14 featues, 1 ID, and the `Severity` of the crash.\n",
    "\n",
    "By looking at the features and a sample from the data, the features look of numerical and catogerical types. What about some descriptive statistics?"
   ]
  },
  {
   "cell_type": "code",
   "execution_count": 11,
   "metadata": {
    "execution": {
     "iopub.execute_input": "2021-07-26T21:13:53.614309Z",
     "iopub.status.busy": "2021-07-26T21:13:53.613594Z",
     "iopub.status.idle": "2021-07-26T21:13:53.762329Z",
     "shell.execute_reply": "2021-07-26T21:13:53.763072Z",
     "shell.execute_reply.started": "2021-07-26T20:46:36.005388Z"
    },
    "papermill": {
     "duration": 0.17968,
     "end_time": "2021-07-26T21:13:53.763455",
     "exception": false,
     "start_time": "2021-07-26T21:13:53.583775",
     "status": "completed"
    },
    "tags": []
   },
   "outputs": [
    {
     "name": "stdout",
     "output_type": "stream",
     "text": [
      "(6407, 16)\n",
      "        ID        Lat         Lng   Bump  Distance(mi)  Crossing  Give_Way  \\\n",
      "0        0  37.762150 -122.405660  False         0.044         0         0   \n",
      "1        1  37.719157 -122.448254  False         0.000         0         0   \n",
      "2        2  37.808498 -122.366852  False         0.000         0         0   \n",
      "3        3  37.785930 -122.391080  False         0.009         0         0   \n",
      "4        4  37.719141 -122.448457  False         0.000         0         0   \n",
      "...    ...        ...         ...    ...           ...       ...       ...   \n",
      "6402  6402  37.740630 -122.407930  False         0.368         0         0   \n",
      "6403  6403  37.752755 -122.402790  False         0.639         0         0   \n",
      "6404  6404  37.726304 -122.446015  False         0.000         0         0   \n",
      "6405  6405  37.808090 -122.367211  False         0.000         0         0   \n",
      "6406  6406  37.773745 -122.408515  False         0.000         1         0   \n",
      "\n",
      "      Junction  No_Exit  Railway  Roundabout  Stop  Amenity  Side  Severity  \\\n",
      "0            0    False        0       False     0        1     1         2   \n",
      "1            0    False        0       False     0        0     1         2   \n",
      "2            0    False        0       False     1        0     1         3   \n",
      "3            1    False        0       False     0        0     1         1   \n",
      "4            0    False        0       False     0        0     1         2   \n",
      "...        ...      ...      ...         ...   ...      ...   ...       ...   \n",
      "6402         0    False        0       False     0        0     1         3   \n",
      "6403         1    False        0       False     0        0     1         2   \n",
      "6404         1    False        0       False     0        0     1         2   \n",
      "6405         1    False        0       False     0        0     1         3   \n",
      "6406         0    False        0       False     0        0     1         2   \n",
      "\n",
      "                timestamp        Date      Time  \n",
      "0     2016-03-25 15:13:02  2016-03-25  15:13:02  \n",
      "1     2020-05-05 19:23:00  2020-05-05  19:23:00  \n",
      "2     2016-09-16 19:57:16  2016-09-16  19:57:16  \n",
      "3     2020-03-29 19:48:43  2020-03-29  19:48:43  \n",
      "4     2019-10-09 08:47:00  2019-10-09  08:47:00  \n",
      "...                   ...         ...       ...  \n",
      "6402  2017-10-01 18:36:13  2017-10-01  18:36:13  \n",
      "6403  2018-10-23 07:40:27  2018-10-23  07:40:27  \n",
      "6404  2019-10-28 15:45:00  2019-10-28  15:45:00  \n",
      "6405  2019-05-04 13:45:31  2019-05-04  13:45:31  \n",
      "6406  2020-02-28 19:43:00  2020-02-28  19:43:00  \n",
      "\n",
      "[6407 rows x 18 columns]\n"
     ]
    }
   ],
   "source": [
    "df.dropna(subset=df.columns[df.isnull().mean()!=0], how='any', axis=0, inplace=True)\n",
    "print(df.shape)\n",
    "#print(df['Side'].describe())\n",
    "#side_num = pd.get_dummies(df['Side'],drop_first=True)\n",
    "#df.insert(1,'df_dummy',df_dummy,True)\n",
    "df['Side'].replace('R',1,inplace=True)\n",
    "df['Side'].replace('L',0,inplace=True)\n",
    "for c in ['Crossing','Give_Way','Junction','Railway','Stop','Amenity']:\n",
    "    df[c].replace(False,0,inplace=True)\n",
    "    df[c].replace(True,1,inplace=True)\n",
    "#print(df['df_dummy'].head(10))\n",
    "#print(df_dummy.info())\n",
    "df.drop(columns=['ID','Bump','Roundabout','No_Exit']).describe()\n",
    "\n",
    "#df['Date'] = [d.date() for d in df['timestamp']]\n",
    "#df['time'] = [d.time() for d in df['timestamp']]\n",
    "df['Date'] = pd.to_datetime(df['timestamp']).dt.date\n",
    "df['Time'] = pd.to_datetime(df['timestamp']).dt.time\n",
    "\n",
    "print(df)"
   ]
  },
  {
   "cell_type": "markdown",
   "metadata": {
    "papermill": {
     "duration": 0.017496,
     "end_time": "2021-07-26T21:13:53.799904",
     "exception": false,
     "start_time": "2021-07-26T21:13:53.782408",
     "status": "completed"
    },
    "tags": []
   },
   "source": [
    "The output shows desciptive statistics for the numerical features, `Lat`, `Lng`, `Distance(mi)`, and `Severity`. I'll use the numerical features to demonstrate how to train the model and make submissions. **However you shouldn't use the numerical features only to make the final submission if you want to make it to the top of the leaderboard.**"
   ]
  },
  {
   "cell_type": "markdown",
   "metadata": {
    "papermill": {
     "duration": 0.017454,
     "end_time": "2021-07-26T21:13:53.835014",
     "exception": false,
     "start_time": "2021-07-26T21:13:53.817560",
     "status": "completed"
    },
    "tags": []
   },
   "source": [
    "## Data Splitting\n",
    "\n",
    "Now it's time to split the dataset for the training step. Typically the dataset is split into 3 subsets, namely, the training, validation and test sets. In our case, the test set is already predefined. So we'll split the \"training\" set into training and validation sets with 0.8:0.2 ratio. \n",
    "\n",
    "*Note: a good way to generate reproducible results is to set the seed to the algorithms that depends on randomization. This is done with the argument `random_state` in the following command* "
   ]
  },
  {
   "cell_type": "code",
   "execution_count": 13,
   "metadata": {
    "execution": {
     "iopub.execute_input": "2021-07-26T21:13:53.882812Z",
     "iopub.status.busy": "2021-07-26T21:13:53.882145Z",
     "iopub.status.idle": "2021-07-26T21:14:10.910084Z",
     "shell.execute_reply": "2021-07-26T21:14:10.909428Z",
     "shell.execute_reply.started": "2021-07-26T20:50:30.137196Z"
    },
    "papermill": {
     "duration": 17.057243,
     "end_time": "2021-07-26T21:14:10.910245",
     "exception": false,
     "start_time": "2021-07-26T21:13:53.853002",
     "status": "completed"
    },
    "tags": []
   },
   "outputs": [
    {
     "name": "stdout",
     "output_type": "stream",
     "text": [
      "            Lat         Lng  Distance(mi)  Crossing  Give_Way  Junction  \\\n",
      "748   37.720890 -122.448044         0.000         1         0         0   \n",
      "5720  37.727319 -122.402749         0.000         0         0         0   \n",
      "1310  37.731370 -122.423590         0.161         0         0         0   \n",
      "5343  37.731860 -122.418282         0.231         0         0         0   \n",
      "1480  37.808498 -122.366852         0.000         0         0         0   \n",
      "...         ...         ...           ...       ...       ...       ...   \n",
      "3772  37.710819 -122.455711         0.000         0         0         0   \n",
      "5191  37.761349 -122.392647         0.000         0         0         0   \n",
      "5226  37.725182 -122.401639         0.000         0         0         1   \n",
      "5390  37.769646 -122.417847         0.000         1         0         0   \n",
      "860   37.778107 -122.401192         0.000         0         0         0   \n",
      "\n",
      "      Railway  Stop  Amenity  Side  holiday  \n",
      "748         1     0        0     1      0.0  \n",
      "5720        0     0        0     1      0.0  \n",
      "1310        0     0        0     1      0.0  \n",
      "5343        0     0        0     1      0.0  \n",
      "1480        0     1        0     1      0.0  \n",
      "...       ...   ...      ...   ...      ...  \n",
      "3772        0     0        0     1      0.0  \n",
      "5191        0     0        0     1      0.0  \n",
      "5226        0     0        0     1      0.0  \n",
      "5390        0     0        0     1      0.0  \n",
      "860         0     0        0     1      0.0  \n",
      "\n",
      "[5125 rows x 11 columns]\n"
     ]
    }
   ],
   "source": [
    "from sklearn.model_selection import train_test_split\n",
    "import numpy as np\n",
    "\n",
    "\n",
    "from bs4 import BeautifulSoup\n",
    "# Open XML file\n",
    "file = open(\"dataset/holidays.xml\", 'r')\n",
    "  \n",
    "# Read the contents of that file\n",
    "contents = file.read()\n",
    "  \n",
    "soup = BeautifulSoup(contents, 'xml')\n",
    "  \n",
    "# Extracting the data\n",
    "date = soup.find_all('date')\n",
    "description = soup.find_all('description')\n",
    "\n",
    "data = []\n",
    "  \n",
    "# Loop to store the data in a list named 'data'\n",
    "for i in range(0, len(date)):\n",
    "    rows = [date[i].get_text(), description[i].get_text()]\n",
    "    data.append(rows)\n",
    "\n",
    "holiday_df = pd.DataFrame(data, columns=['date',\n",
    "                                 'description'])\n",
    "    \n",
    "# Converting the list into dataframe\n",
    "\n",
    "hol=np.zeros(len(df))\n",
    "\n",
    "for k in range(0,len(df)):\n",
    "    for i in range(0,len(holiday_df)):\n",
    "        if str(df.loc[k,'Date']) == holiday_df.loc[i,'date']:\n",
    "            hol[k]=1\n",
    "        \n",
    "df['holiday'] =hol\n",
    "\n",
    "\n",
    "\n",
    "train_df, val_df = train_test_split(df, test_size=0.2, random_state=42) # Try adding `stratify` here\n",
    "\n",
    "X_train = train_df.drop(columns=['ID','Date','Time', 'Severity','timestamp','Bump','Roundabout','No_Exit'])\n",
    "y_train = train_df['Severity']\n",
    "\n",
    "X_val = val_df.drop(columns=['ID','Date','Time', 'Severity','timestamp','Bump','Roundabout','No_Exit'])\n",
    "y_val = val_df['Severity']\n",
    "\n",
    "print(X_train)"
   ]
  },
  {
   "cell_type": "markdown",
   "metadata": {
    "papermill": {
     "duration": 0.018,
     "end_time": "2021-07-26T21:14:10.947048",
     "exception": false,
     "start_time": "2021-07-26T21:14:10.929048",
     "status": "completed"
    },
    "tags": []
   },
   "source": [
    "As pointed out eariler, I'll use the numerical features to train the classifier. **However, you shouldn't use the numerical features only to make the final submission if you want to make it to the top of the leaderboard.** "
   ]
  },
  {
   "cell_type": "code",
   "execution_count": 14,
   "metadata": {
    "execution": {
     "iopub.execute_input": "2021-07-26T21:14:10.988126Z",
     "iopub.status.busy": "2021-07-26T21:14:10.987342Z",
     "iopub.status.idle": "2021-07-26T21:14:10.990371Z",
     "shell.execute_reply": "2021-07-26T21:14:10.990969Z"
    },
    "papermill": {
     "duration": 0.025781,
     "end_time": "2021-07-26T21:14:10.991161",
     "exception": false,
     "start_time": "2021-07-26T21:14:10.965380",
     "status": "completed"
    },
    "tags": []
   },
   "outputs": [],
   "source": [
    "# This cell is used to select the numerical features. IT SHOULD BE REMOVED AS YOU DO YOUR WORK.\n",
    "# X_train = X_train[['Lat', 'Lng', 'Distance(mi)']]\n",
    "# X_val = X_val[['Lat', 'Lng', 'Distance(mi)']]"
   ]
  },
  {
   "cell_type": "markdown",
   "metadata": {
    "papermill": {
     "duration": 0.018134,
     "end_time": "2021-07-26T21:14:11.028059",
     "exception": false,
     "start_time": "2021-07-26T21:14:11.009925",
     "status": "completed"
    },
    "tags": []
   },
   "source": [
    "## Model Training\n",
    "\n",
    "Let's train a model with the data! We'll train a Random Forest Classifier to demonstrate the process of making submissions. "
   ]
  },
  {
   "cell_type": "code",
   "execution_count": 15,
   "metadata": {
    "execution": {
     "iopub.execute_input": "2021-07-26T21:14:11.070947Z",
     "iopub.status.busy": "2021-07-26T21:14:11.070007Z",
     "iopub.status.idle": "2021-07-26T21:14:11.590690Z",
     "shell.execute_reply": "2021-07-26T21:14:11.590124Z",
     "shell.execute_reply.started": "2021-07-26T20:50:51.818240Z"
    },
    "papermill": {
     "duration": 0.544176,
     "end_time": "2021-07-26T21:14:11.590857",
     "exception": false,
     "start_time": "2021-07-26T21:14:11.046681",
     "status": "completed"
    },
    "tags": []
   },
   "outputs": [],
   "source": [
    "from sklearn.ensemble import RandomForestClassifier\n",
    "\n",
    "# Create an instance of the classifier\n",
    "classifier = RandomForestClassifier(max_depth=2, random_state=0)\n",
    "\n",
    "# Train the classifier\n",
    "classifier = classifier.fit(X_train, y_train)"
   ]
  },
  {
   "cell_type": "markdown",
   "metadata": {
    "papermill": {
     "duration": 0.018315,
     "end_time": "2021-07-26T21:14:11.627806",
     "exception": false,
     "start_time": "2021-07-26T21:14:11.609491",
     "status": "completed"
    },
    "tags": []
   },
   "source": [
    "Now let's test our classifier on the validation dataset and see the accuracy."
   ]
  },
  {
   "cell_type": "code",
   "execution_count": 16,
   "metadata": {
    "execution": {
     "iopub.execute_input": "2021-07-26T21:14:11.673469Z",
     "iopub.status.busy": "2021-07-26T21:14:11.672662Z",
     "iopub.status.idle": "2021-07-26T21:14:11.694770Z",
     "shell.execute_reply": "2021-07-26T21:14:11.694172Z",
     "shell.execute_reply.started": "2021-07-26T20:50:58.052941Z"
    },
    "papermill": {
     "duration": 0.048385,
     "end_time": "2021-07-26T21:14:11.694923",
     "exception": false,
     "start_time": "2021-07-26T21:14:11.646538",
     "status": "completed"
    },
    "tags": []
   },
   "outputs": [
    {
     "name": "stdout",
     "output_type": "stream",
     "text": [
      "The accuracy of the classifier on the validation set is  0.7433697347893916\n"
     ]
    }
   ],
   "source": [
    "print(\"The accuracy of the classifier on the validation set is \", (classifier.score(X_val, y_val)))"
   ]
  },
  {
   "cell_type": "markdown",
   "metadata": {
    "papermill": {
     "duration": 0.018539,
     "end_time": "2021-07-26T21:14:11.732270",
     "exception": false,
     "start_time": "2021-07-26T21:14:11.713731",
     "status": "completed"
    },
    "tags": []
   },
   "source": [
    "Well. That's a good start, right? A classifier that predicts all examples' `Severity` as 2 will get around 0.63. You should get better score as you add more features and do better data preprocessing."
   ]
  },
  {
   "cell_type": "markdown",
   "metadata": {
    "papermill": {
     "duration": 0.018508,
     "end_time": "2021-07-26T21:14:11.769623",
     "exception": false,
     "start_time": "2021-07-26T21:14:11.751115",
     "status": "completed"
    },
    "tags": []
   },
   "source": [
    "## Submission File Generation\n",
    "\n",
    "We have built a model and we'd like to submit our predictions on the test set! In order to do that, we'll load the test set, predict the class and save the submission file. \n",
    "\n",
    "First, we'll load the data."
   ]
  },
  {
   "cell_type": "code",
   "execution_count": 17,
   "metadata": {
    "execution": {
     "iopub.execute_input": "2021-07-26T21:14:11.813600Z",
     "iopub.status.busy": "2021-07-26T21:14:11.812783Z",
     "iopub.status.idle": "2021-07-26T21:14:11.848170Z",
     "shell.execute_reply": "2021-07-26T21:14:11.847471Z",
     "shell.execute_reply.started": "2021-07-26T20:51:11.266896Z"
    },
    "papermill": {
     "duration": 0.059644,
     "end_time": "2021-07-26T21:14:11.848333",
     "exception": false,
     "start_time": "2021-07-26T21:14:11.788689",
     "status": "completed"
    },
    "tags": []
   },
   "outputs": [
    {
     "data": {
      "text/html": [
       "<div>\n",
       "<style scoped>\n",
       "    .dataframe tbody tr th:only-of-type {\n",
       "        vertical-align: middle;\n",
       "    }\n",
       "\n",
       "    .dataframe tbody tr th {\n",
       "        vertical-align: top;\n",
       "    }\n",
       "\n",
       "    .dataframe thead th {\n",
       "        text-align: right;\n",
       "    }\n",
       "</style>\n",
       "<table border=\"1\" class=\"dataframe\">\n",
       "  <thead>\n",
       "    <tr style=\"text-align: right;\">\n",
       "      <th></th>\n",
       "      <th>ID</th>\n",
       "      <th>Lat</th>\n",
       "      <th>Lng</th>\n",
       "      <th>Bump</th>\n",
       "      <th>Distance(mi)</th>\n",
       "      <th>Crossing</th>\n",
       "      <th>Give_Way</th>\n",
       "      <th>Junction</th>\n",
       "      <th>No_Exit</th>\n",
       "      <th>Railway</th>\n",
       "      <th>Roundabout</th>\n",
       "      <th>Stop</th>\n",
       "      <th>Amenity</th>\n",
       "      <th>Side</th>\n",
       "      <th>timestamp</th>\n",
       "    </tr>\n",
       "  </thead>\n",
       "  <tbody>\n",
       "    <tr>\n",
       "      <th>0</th>\n",
       "      <td>6407</td>\n",
       "      <td>37.786060</td>\n",
       "      <td>-122.390900</td>\n",
       "      <td>False</td>\n",
       "      <td>0.039</td>\n",
       "      <td>False</td>\n",
       "      <td>False</td>\n",
       "      <td>True</td>\n",
       "      <td>False</td>\n",
       "      <td>False</td>\n",
       "      <td>False</td>\n",
       "      <td>False</td>\n",
       "      <td>False</td>\n",
       "      <td>R</td>\n",
       "      <td>2016-04-04 19:20:31</td>\n",
       "    </tr>\n",
       "    <tr>\n",
       "      <th>1</th>\n",
       "      <td>6408</td>\n",
       "      <td>37.769609</td>\n",
       "      <td>-122.415057</td>\n",
       "      <td>False</td>\n",
       "      <td>0.202</td>\n",
       "      <td>False</td>\n",
       "      <td>False</td>\n",
       "      <td>False</td>\n",
       "      <td>False</td>\n",
       "      <td>False</td>\n",
       "      <td>False</td>\n",
       "      <td>False</td>\n",
       "      <td>False</td>\n",
       "      <td>R</td>\n",
       "      <td>2020-10-28 11:51:00</td>\n",
       "    </tr>\n",
       "    <tr>\n",
       "      <th>2</th>\n",
       "      <td>6409</td>\n",
       "      <td>37.807495</td>\n",
       "      <td>-122.476021</td>\n",
       "      <td>False</td>\n",
       "      <td>0.000</td>\n",
       "      <td>False</td>\n",
       "      <td>False</td>\n",
       "      <td>False</td>\n",
       "      <td>False</td>\n",
       "      <td>False</td>\n",
       "      <td>False</td>\n",
       "      <td>False</td>\n",
       "      <td>False</td>\n",
       "      <td>R</td>\n",
       "      <td>2019-09-09 07:36:45</td>\n",
       "    </tr>\n",
       "    <tr>\n",
       "      <th>3</th>\n",
       "      <td>6410</td>\n",
       "      <td>37.761818</td>\n",
       "      <td>-122.405869</td>\n",
       "      <td>False</td>\n",
       "      <td>0.000</td>\n",
       "      <td>False</td>\n",
       "      <td>False</td>\n",
       "      <td>True</td>\n",
       "      <td>False</td>\n",
       "      <td>False</td>\n",
       "      <td>False</td>\n",
       "      <td>False</td>\n",
       "      <td>False</td>\n",
       "      <td>R</td>\n",
       "      <td>2019-08-06 15:46:25</td>\n",
       "    </tr>\n",
       "    <tr>\n",
       "      <th>4</th>\n",
       "      <td>6411</td>\n",
       "      <td>37.732350</td>\n",
       "      <td>-122.414100</td>\n",
       "      <td>False</td>\n",
       "      <td>0.670</td>\n",
       "      <td>False</td>\n",
       "      <td>False</td>\n",
       "      <td>False</td>\n",
       "      <td>False</td>\n",
       "      <td>False</td>\n",
       "      <td>False</td>\n",
       "      <td>False</td>\n",
       "      <td>False</td>\n",
       "      <td>R</td>\n",
       "      <td>2018-10-17 09:54:58</td>\n",
       "    </tr>\n",
       "  </tbody>\n",
       "</table>\n",
       "</div>"
      ],
      "text/plain": [
       "     ID        Lat         Lng   Bump  Distance(mi)  Crossing  Give_Way  \\\n",
       "0  6407  37.786060 -122.390900  False         0.039     False     False   \n",
       "1  6408  37.769609 -122.415057  False         0.202     False     False   \n",
       "2  6409  37.807495 -122.476021  False         0.000     False     False   \n",
       "3  6410  37.761818 -122.405869  False         0.000     False     False   \n",
       "4  6411  37.732350 -122.414100  False         0.670     False     False   \n",
       "\n",
       "   Junction  No_Exit  Railway  Roundabout   Stop  Amenity Side  \\\n",
       "0      True    False    False       False  False    False    R   \n",
       "1     False    False    False       False  False    False    R   \n",
       "2     False    False    False       False  False    False    R   \n",
       "3      True    False    False       False  False    False    R   \n",
       "4     False    False    False       False  False    False    R   \n",
       "\n",
       "             timestamp  \n",
       "0  2016-04-04 19:20:31  \n",
       "1  2020-10-28 11:51:00  \n",
       "2  2019-09-09 07:36:45  \n",
       "3  2019-08-06 15:46:25  \n",
       "4  2018-10-17 09:54:58  "
      ]
     },
     "execution_count": 17,
     "metadata": {},
     "output_type": "execute_result"
    }
   ],
   "source": [
    "test_df = pd.read_csv(os.path.join(dataset_path, 'test.csv'))\n",
    "test_df.head()"
   ]
  },
  {
   "cell_type": "markdown",
   "metadata": {
    "papermill": {
     "duration": 0.019805,
     "end_time": "2021-07-26T21:14:11.888271",
     "exception": false,
     "start_time": "2021-07-26T21:14:11.868466",
     "status": "completed"
    },
    "tags": []
   },
   "source": [
    "Note that the test set has the same features and doesn't have the `Severity` column.\n",
    "At this stage one must **NOT** forget to apply the same processing done on the training set on the features of the test set.\n",
    "\n",
    "Now we'll add `Severity` column to the test `DataFrame` and add the values of the predicted class to it.\n",
    "\n",
    "**I'll select the numerical features here as I did in the training set. DO NOT forget to change this step as you change the preprocessing of the training data.**"
   ]
  },
  {
   "cell_type": "code",
   "execution_count": 18,
   "metadata": {
    "execution": {
     "iopub.execute_input": "2021-07-26T21:14:11.973373Z",
     "iopub.status.busy": "2021-07-26T21:14:11.968085Z",
     "iopub.status.idle": "2021-07-26T21:14:15.988589Z",
     "shell.execute_reply": "2021-07-26T21:14:15.989262Z",
     "shell.execute_reply.started": "2021-07-26T21:09:22.798964Z"
    },
    "papermill": {
     "duration": 4.081541,
     "end_time": "2021-07-26T21:14:15.989478",
     "exception": false,
     "start_time": "2021-07-26T21:14:11.907937",
     "status": "completed"
    },
    "tags": []
   },
   "outputs": [
    {
     "data": {
      "text/html": [
       "<div>\n",
       "<style scoped>\n",
       "    .dataframe tbody tr th:only-of-type {\n",
       "        vertical-align: middle;\n",
       "    }\n",
       "\n",
       "    .dataframe tbody tr th {\n",
       "        vertical-align: top;\n",
       "    }\n",
       "\n",
       "    .dataframe thead th {\n",
       "        text-align: right;\n",
       "    }\n",
       "</style>\n",
       "<table border=\"1\" class=\"dataframe\">\n",
       "  <thead>\n",
       "    <tr style=\"text-align: right;\">\n",
       "      <th></th>\n",
       "      <th>ID</th>\n",
       "      <th>Lat</th>\n",
       "      <th>Lng</th>\n",
       "      <th>Bump</th>\n",
       "      <th>Distance(mi)</th>\n",
       "      <th>Crossing</th>\n",
       "      <th>Give_Way</th>\n",
       "      <th>Junction</th>\n",
       "      <th>No_Exit</th>\n",
       "      <th>Railway</th>\n",
       "      <th>Roundabout</th>\n",
       "      <th>Stop</th>\n",
       "      <th>Amenity</th>\n",
       "      <th>Side</th>\n",
       "      <th>timestamp</th>\n",
       "      <th>Date</th>\n",
       "      <th>Time</th>\n",
       "      <th>holiday</th>\n",
       "      <th>Severity</th>\n",
       "    </tr>\n",
       "  </thead>\n",
       "  <tbody>\n",
       "    <tr>\n",
       "      <th>0</th>\n",
       "      <td>6407</td>\n",
       "      <td>37.786060</td>\n",
       "      <td>-122.390900</td>\n",
       "      <td>False</td>\n",
       "      <td>0.039</td>\n",
       "      <td>0</td>\n",
       "      <td>0</td>\n",
       "      <td>1</td>\n",
       "      <td>False</td>\n",
       "      <td>0</td>\n",
       "      <td>False</td>\n",
       "      <td>0</td>\n",
       "      <td>0</td>\n",
       "      <td>1</td>\n",
       "      <td>2016-04-04 19:20:31</td>\n",
       "      <td>2016-04-04</td>\n",
       "      <td>19:20:31</td>\n",
       "      <td>0.0</td>\n",
       "      <td>2</td>\n",
       "    </tr>\n",
       "    <tr>\n",
       "      <th>1</th>\n",
       "      <td>6408</td>\n",
       "      <td>37.769609</td>\n",
       "      <td>-122.415057</td>\n",
       "      <td>False</td>\n",
       "      <td>0.202</td>\n",
       "      <td>0</td>\n",
       "      <td>0</td>\n",
       "      <td>0</td>\n",
       "      <td>False</td>\n",
       "      <td>0</td>\n",
       "      <td>False</td>\n",
       "      <td>0</td>\n",
       "      <td>0</td>\n",
       "      <td>1</td>\n",
       "      <td>2020-10-28 11:51:00</td>\n",
       "      <td>2020-10-28</td>\n",
       "      <td>11:51:00</td>\n",
       "      <td>0.0</td>\n",
       "      <td>2</td>\n",
       "    </tr>\n",
       "    <tr>\n",
       "      <th>2</th>\n",
       "      <td>6409</td>\n",
       "      <td>37.807495</td>\n",
       "      <td>-122.476021</td>\n",
       "      <td>False</td>\n",
       "      <td>0.000</td>\n",
       "      <td>0</td>\n",
       "      <td>0</td>\n",
       "      <td>0</td>\n",
       "      <td>False</td>\n",
       "      <td>0</td>\n",
       "      <td>False</td>\n",
       "      <td>0</td>\n",
       "      <td>0</td>\n",
       "      <td>1</td>\n",
       "      <td>2019-09-09 07:36:45</td>\n",
       "      <td>2019-09-09</td>\n",
       "      <td>07:36:45</td>\n",
       "      <td>0.0</td>\n",
       "      <td>2</td>\n",
       "    </tr>\n",
       "    <tr>\n",
       "      <th>3</th>\n",
       "      <td>6410</td>\n",
       "      <td>37.761818</td>\n",
       "      <td>-122.405869</td>\n",
       "      <td>False</td>\n",
       "      <td>0.000</td>\n",
       "      <td>0</td>\n",
       "      <td>0</td>\n",
       "      <td>1</td>\n",
       "      <td>False</td>\n",
       "      <td>0</td>\n",
       "      <td>False</td>\n",
       "      <td>0</td>\n",
       "      <td>0</td>\n",
       "      <td>1</td>\n",
       "      <td>2019-08-06 15:46:25</td>\n",
       "      <td>2019-08-06</td>\n",
       "      <td>15:46:25</td>\n",
       "      <td>0.0</td>\n",
       "      <td>2</td>\n",
       "    </tr>\n",
       "    <tr>\n",
       "      <th>4</th>\n",
       "      <td>6411</td>\n",
       "      <td>37.732350</td>\n",
       "      <td>-122.414100</td>\n",
       "      <td>False</td>\n",
       "      <td>0.670</td>\n",
       "      <td>0</td>\n",
       "      <td>0</td>\n",
       "      <td>0</td>\n",
       "      <td>False</td>\n",
       "      <td>0</td>\n",
       "      <td>False</td>\n",
       "      <td>0</td>\n",
       "      <td>0</td>\n",
       "      <td>1</td>\n",
       "      <td>2018-10-17 09:54:58</td>\n",
       "      <td>2018-10-17</td>\n",
       "      <td>09:54:58</td>\n",
       "      <td>0.0</td>\n",
       "      <td>2</td>\n",
       "    </tr>\n",
       "  </tbody>\n",
       "</table>\n",
       "</div>"
      ],
      "text/plain": [
       "     ID        Lat         Lng   Bump  Distance(mi)  Crossing  Give_Way  \\\n",
       "0  6407  37.786060 -122.390900  False         0.039         0         0   \n",
       "1  6408  37.769609 -122.415057  False         0.202         0         0   \n",
       "2  6409  37.807495 -122.476021  False         0.000         0         0   \n",
       "3  6410  37.761818 -122.405869  False         0.000         0         0   \n",
       "4  6411  37.732350 -122.414100  False         0.670         0         0   \n",
       "\n",
       "   Junction  No_Exit  Railway  Roundabout  Stop  Amenity  Side  \\\n",
       "0         1    False        0       False     0        0     1   \n",
       "1         0    False        0       False     0        0     1   \n",
       "2         0    False        0       False     0        0     1   \n",
       "3         1    False        0       False     0        0     1   \n",
       "4         0    False        0       False     0        0     1   \n",
       "\n",
       "             timestamp        Date      Time  holiday  Severity  \n",
       "0  2016-04-04 19:20:31  2016-04-04  19:20:31      0.0         2  \n",
       "1  2020-10-28 11:51:00  2020-10-28  11:51:00      0.0         2  \n",
       "2  2019-09-09 07:36:45  2019-09-09  07:36:45      0.0         2  \n",
       "3  2019-08-06 15:46:25  2019-08-06  15:46:25      0.0         2  \n",
       "4  2018-10-17 09:54:58  2018-10-17  09:54:58      0.0         2  "
      ]
     },
     "execution_count": 18,
     "metadata": {},
     "output_type": "execute_result"
    }
   ],
   "source": [
    "test_df['Side'].replace('R',1,inplace=True)\n",
    "test_df['Side'].replace('L',0,inplace=True)\n",
    "for c in ['Crossing','Give_Way','Junction','Railway','Stop','Amenity']:\n",
    "    test_df[c].replace(False,0,inplace=True)\n",
    "    test_df[c].replace(True,1,inplace=True)\n",
    "    \n",
    "test_df['Date'] = pd.to_datetime(test_df['timestamp']).dt.date\n",
    "test_df['Time'] = pd.to_datetime(test_df['timestamp']).dt.time\n",
    "\n",
    "hol1=np.zeros(len(test_df))\n",
    "for k in range(0,len(test_df)):\n",
    "    for i in range(0,len(holiday_df)):\n",
    "        if str(test_df.loc[k,'Date']) == holiday_df.loc[i,'date']:\n",
    "            hol1[k]=1\n",
    "        \n",
    "test_df['holiday'] =hol1\n",
    "X_test = test_df.drop(columns=['ID','timestamp','Date','Time','Bump','Roundabout','No_Exit'])\n",
    "\n",
    "\n",
    "# You should update/remove the next line once you change the features used for training\n",
    "\n",
    "\n",
    "y_test_predicted = classifier.predict(X_test)\n",
    "\n",
    "test_df['Severity'] = y_test_predicted\n",
    "\n",
    "test_df.head()"
   ]
  },
  {
   "cell_type": "markdown",
   "metadata": {
    "papermill": {
     "duration": 0.02046,
     "end_time": "2021-07-26T21:14:16.030658",
     "exception": false,
     "start_time": "2021-07-26T21:14:16.010198",
     "status": "completed"
    },
    "tags": []
   },
   "source": [
    "Now we're ready to generate the submission file. The submission file needs the columns `ID` and `Severity` only."
   ]
  },
  {
   "cell_type": "code",
   "execution_count": 19,
   "metadata": {
    "execution": {
     "iopub.execute_input": "2021-07-26T21:14:16.076949Z",
     "iopub.status.busy": "2021-07-26T21:14:16.075986Z",
     "iopub.status.idle": "2021-07-26T21:14:16.087080Z",
     "shell.execute_reply": "2021-07-26T21:14:16.086357Z",
     "shell.execute_reply.started": "2021-07-26T21:09:37.274545Z"
    },
    "papermill": {
     "duration": 0.036524,
     "end_time": "2021-07-26T21:14:16.087232",
     "exception": false,
     "start_time": "2021-07-26T21:14:16.050708",
     "status": "completed"
    },
    "tags": []
   },
   "outputs": [],
   "source": [
    "test_df[['ID', 'Severity']].to_csv('dataset/submission.csv', index=False)"
   ]
  }
 ],
 "metadata": {
  "kernelspec": {
   "display_name": "Python 3",
   "language": "python",
   "name": "python3"
  },
  "language_info": {
   "codemirror_mode": {
    "name": "ipython",
    "version": 3
   },
   "file_extension": ".py",
   "mimetype": "text/x-python",
   "name": "python",
   "nbconvert_exporter": "python",
   "pygments_lexer": "ipython3",
   "version": "3.8.5"
  },
  "papermill": {
   "default_parameters": {},
   "duration": 33.894561,
   "end_time": "2021-07-26T21:14:17.889337",
   "environment_variables": {},
   "exception": null,
   "input_path": "__notebook__.ipynb",
   "output_path": "__notebook__.ipynb",
   "parameters": {},
   "start_time": "2021-07-26T21:13:43.994776",
   "version": "2.3.3"
  }
 },
 "nbformat": 4,
 "nbformat_minor": 5
}
